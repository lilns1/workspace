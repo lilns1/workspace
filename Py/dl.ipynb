{
 "cells": [
  {
   "cell_type": "code",
   "id": "initial_id",
   "metadata": {
    "ExecuteTime": {
     "end_time": "2025-04-22T12:44:06.746264Z",
     "start_time": "2025-04-22T12:44:06.742024Z"
    }
   },
   "source": [
    "import torch as nn\n",
    "import numpy as np\n",
    "a = nn.tensor([1, 2])\n",
    "b = a.numpy()\n",
    "a.shape, b.shape"
   ],
   "outputs": [
    {
     "data": {
      "text/plain": [
       "(torch.Size([2]), (2,))"
      ]
     },
     "execution_count": 3,
     "metadata": {},
     "output_type": "execute_result"
    }
   ],
   "execution_count": 3
  },
  {
   "metadata": {},
   "cell_type": "code",
   "outputs": [],
   "execution_count": null,
   "source": "",
   "id": "1a857ff1ad22f43c"
  }
 ],
 "metadata": {
  "kernelspec": {
   "display_name": "Python 3 (ipykernel)",
   "language": "python",
   "name": "python3"
  },
  "language_info": {
   "codemirror_mode": {
    "name": "ipython",
    "version": 3
   },
   "file_extension": ".py",
   "mimetype": "text/x-python",
   "name": "python",
   "nbconvert_exporter": "python",
   "pygments_lexer": "ipython3",
   "version": "3.8.20"
  }
 },
 "nbformat": 4,
 "nbformat_minor": 5
}
